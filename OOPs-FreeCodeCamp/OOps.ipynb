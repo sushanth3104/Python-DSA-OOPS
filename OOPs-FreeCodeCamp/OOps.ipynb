{
 "cells": [
  {
   "cell_type": "markdown",
   "metadata": {},
   "source": [
    "![Intro](intro.png)"
   ]
  },
  {
   "cell_type": "markdown",
   "metadata": {
    "vscode": {
     "languageId": "plaintext"
    }
   },
   "source": [
    "### Why OOPs ?"
   ]
  },
  {
   "cell_type": "code",
   "execution_count": 4,
   "metadata": {},
   "outputs": [
    {
     "name": "stdout",
     "output_type": "stream",
     "text": [
      "phone\n",
      "100\n",
      "5\n",
      "500\n",
      "<class 'str'>\n",
      "<class 'int'>\n",
      "<class 'int'>\n",
      "<class 'int'>\n"
     ]
    }
   ],
   "source": [
    "# Assuming we are running a store , then the items in the store must be tracked\n",
    "\n",
    "item1 = \"phone\"\n",
    "item1_price = 100\n",
    "item1_quantity = 5\n",
    "item1_price_total = item1_price*item1_quantity\n",
    "\n",
    "print(item1)  #str\n",
    "print(item1_price) #int\n",
    "print(item1_quantity) #int\n",
    "print(item1_price_total) #int\n",
    "\n",
    "# For python all 4-Quantities are just varibles with no relation \n",
    "# But for us they are realted to item1\n",
    "\n",
    "#This is the problem that must  be solved\n",
    "\n",
    "# Default every variable is an object of some class in python, so the above data types are \n",
    "# just instances of their respected class\n",
    "\n",
    "print(type(item1))  #str\n",
    "print(type(item1_price)) #int\n",
    "print(type(item1_quantity)) #int\n",
    "print(type(item1_price_total)) #int\n",
    "\n",
    "\n",
    "# It would be beneficial for us if we could tell python to create a data type of this item for making \n",
    "# a relation between them\n",
    "\n"
   ]
  },
  {
   "cell_type": "code",
   "execution_count": 5,
   "metadata": {},
   "outputs": [
    {
     "name": "stdout",
     "output_type": "stream",
     "text": [
      "<class '__main__.Item'>\n",
      "<class 'str'>\n",
      "<class 'int'>\n",
      "<class 'int'>\n"
     ]
    }
   ],
   "source": [
    "class Item:\n",
    "    pass\n",
    "\n",
    "item1 = Item()  # Creating an  instance of Item class : Object of class item\n",
    "\n",
    "# Assigning attributes to an instance of a class\n",
    "\n",
    "item1.name = \"Phone\"\n",
    "item1.price = 100\n",
    "item1.quantity = 5\n",
    "\n",
    "# All these are related in this case : Our aim\n",
    "\n",
    "print(type(item1))    # Item\n",
    "print(type(item1.name))  #str\n",
    "print(type(item1.price)) # int\n",
    "print(type(item1.quantity)) #int\n",
    "\n",
    "\n"
   ]
  },
  {
   "cell_type": "code",
   "execution_count": 7,
   "metadata": {},
   "outputs": [
    {
     "name": "stdout",
     "output_type": "stream",
     "text": [
      "500\n",
      "3000\n"
     ]
    }
   ],
   "source": [
    "# Creating methods : inside class\n",
    "\n",
    "\n",
    "class Item:\n",
    "    def calculate_total_price(self): #Python passes object itself as first argument to its methods\n",
    "        return self.price * self.quantity\n",
    "\n",
    "\n",
    "item1 = Item()\n",
    "item1.name = \"Phone\"\n",
    "item1.price = 100\n",
    "item1.quantity = 5\n",
    "print(item1.calculate_total_price())\n",
    "\n",
    "item2 = Item()\n",
    "item2.name = \"Laptop\"\n",
    "item2.price = 1000\n",
    "item2.quantity = 3\n",
    "print(item2.calculate_total_price())\n",
    "\n",
    "\n"
   ]
  },
  {
   "cell_type": "code",
   "execution_count": 8,
   "metadata": {},
   "outputs": [
    {
     "name": "stdout",
     "output_type": "stream",
     "text": [
      "500\n",
      "3000\n"
     ]
    }
   ],
   "source": [
    "# Creating methods : inside class\n",
    "\n",
    "# Method with arguments\n",
    "\n",
    "class Item:\n",
    "    def calculate_total_price(self,x,y): #Python passes object itself as first argument to its methods\n",
    "        return x*y\n",
    "\n",
    "\n",
    "item1 = Item()\n",
    "item1.name = \"Phone\"\n",
    "item1.price = 100\n",
    "item1.quantity = 5\n",
    "print(item1.calculate_total_price(item1.price,item1.quantity))\n",
    "\n",
    "item2 = Item()\n",
    "item2.name = \"Laptop\"\n",
    "item2.price = 1000\n",
    "item2.quantity = 3\n",
    "print(item2.calculate_total_price(item2.price,item2.quantity))"
   ]
  },
  {
   "cell_type": "code",
   "execution_count": 9,
   "metadata": {},
   "outputs": [
    {
     "name": "stdout",
     "output_type": "stream",
     "text": [
      "I am created\n",
      "I am created\n"
     ]
    }
   ],
   "source": [
    "# We do not want to hardcode the variables name,price and quantity for every object that is beging created\n",
    "# We want to mandate that inorder to create an instace all these detailes must be provided while instantiating a class\n",
    "\n",
    "\n",
    "# Using __init__ method : Constructor\n",
    "# Python executes this __init__ method when an object is created automatically\n",
    "\n",
    "class Item:\n",
    "    def __init__(self):\n",
    "        print(\"I am created\")\n",
    "        \n",
    "    def calculate_total_price(self,x,y): #Python passes object itself as first argument to its methods\n",
    "        return x*y    \n",
    "\n",
    "item1 = Item()    # __init__ executes\n",
    "item1.name = \"Phone\"\n",
    "item1.price = 100\n",
    "item1.quantity = 5\n",
    "\n",
    "\n",
    "item2 = Item()    # __init__ executes\n",
    "item2.name = \"Laptop\"\n",
    "item2.price = 1000\n",
    "item2.quantity = 3\n",
    "\n"
   ]
  },
  {
   "cell_type": "code",
   "execution_count": 10,
   "metadata": {},
   "outputs": [
    {
     "name": "stdout",
     "output_type": "stream",
     "text": [
      " An instance created : Phone\n",
      " An instance created : Laptop\n"
     ]
    }
   ],
   "source": [
    "# MAking use of __init__ method\n",
    "\n",
    "class Item:\n",
    "    def __init__(self, name):\n",
    "        print(f\" An instance created : {name}\")\n",
    "        \n",
    "    def calculate_total_price(self,x,y): #Python passes object itself as first argument to its methods\n",
    "        return x*y    \n",
    "\n",
    "item1 = Item(\"Phone\")    # __init__ executes\n",
    "item1.name = \"Phone\"\n",
    "item1.price = 100\n",
    "item1.quantity = 5\n",
    "\n",
    "\n",
    "item2 = Item(\"Laptop\")    # __init__ executes\n",
    "item2.name = \"Laptop\"\n",
    "item2.price = 1000\n",
    "item2.quantity = 3"
   ]
  },
  {
   "cell_type": "code",
   "execution_count": 11,
   "metadata": {},
   "outputs": [
    {
     "name": "stdout",
     "output_type": "stream",
     "text": [
      "Total price of Phone is 500\n",
      "Total price of Laptop is 3000\n"
     ]
    }
   ],
   "source": [
    "\n",
    "\n",
    "class Item:\n",
    "    def __init__(self,name,price,quantity):\n",
    "\n",
    "        self.name = name\n",
    "        self.price = price\n",
    "        self.quantity = quantity\n",
    "        \n",
    "    def calculate_total_price(self):\n",
    "\n",
    "        return self.price * self.quantity\n",
    "    \n",
    "item1 = Item(\"Phone\",100,5)\n",
    "print(f\"Total price of {item1.name} is {item1.calculate_total_price()}\")\n",
    "\n",
    "item2 = Item(\"Laptop\",1000,3)\n",
    "print(f\"Total price of {item2.name} is {item2.calculate_total_price()}\")\n"
   ]
  },
  {
   "cell_type": "code",
   "execution_count": 12,
   "metadata": {},
   "outputs": [
    {
     "name": "stdout",
     "output_type": "stream",
     "text": [
      "Total price of Phone is 0\n",
      "Total price of Laptop is 3000\n"
     ]
    }
   ],
   "source": [
    "# There may be situation where we might not know the total numner of phones and laptops\n",
    "# In that case we can create an instance with default value\n",
    "\n",
    "class Item:\n",
    "    def __init__(self,name,price,quantity = 0 ):\n",
    "\n",
    "        self.name = name\n",
    "        self.price = price\n",
    "        self.quantity = quantity\n",
    "        \n",
    "    def calculate_total_price(self):\n",
    "\n",
    "        return self.price * self.quantity\n",
    "    \n",
    "item1 = Item(\"Phone\",100)\n",
    "print(f\"Total price of {item1.name} is {item1.calculate_total_price()}\")\n",
    "\n",
    "item2 = Item(\"Laptop\",1000,3)\n",
    "print(f\"Total price of {item2.name} is {item2.calculate_total_price()}\")"
   ]
  },
  {
   "cell_type": "code",
   "execution_count": 18,
   "metadata": {},
   "outputs": [
    {
     "ename": "NameError",
     "evalue": "name 'present' is not defined",
     "output_type": "error",
     "traceback": [
      "\u001b[0;31m---------------------------------------------------------------------------\u001b[0m",
      "\u001b[0;31mNameError\u001b[0m                                 Traceback (most recent call last)",
      "Cell \u001b[0;32mIn [18], line 22\u001b[0m\n\u001b[1;32m     18\u001b[0m item2 \u001b[38;5;241m=\u001b[39m Item(\u001b[38;5;124m\"\u001b[39m\u001b[38;5;124mLaptop\u001b[39m\u001b[38;5;124m\"\u001b[39m,\u001b[38;5;241m1000\u001b[39m,\u001b[38;5;241m3\u001b[39m)\n\u001b[1;32m     20\u001b[0m \u001b[38;5;66;03m# Adding TrackPad attribute\u001b[39;00m\n\u001b[0;32m---> 22\u001b[0m item2\u001b[38;5;241m.\u001b[39mtrackpad \u001b[38;5;241m=\u001b[39m \u001b[43mpresent\u001b[49m\n\u001b[1;32m     25\u001b[0m \u001b[38;5;28mprint\u001b[39m(item2\u001b[38;5;241m.\u001b[39mtrackpad)\n",
      "\u001b[0;31mNameError\u001b[0m: name 'present' is not defined"
     ]
    }
   ],
   "source": [
    "# We can assign attributes to specific instances independen of each other  \n",
    "\n",
    "# Use case : Track pad is a characteristic of Laptop but not phone\n",
    "# So it can be added to the instance under consideration(Laptop)\n",
    "\n",
    "class Item:\n",
    "    def __init__(self,name,price,quantity = 0 ):\n",
    "        self.name = name\n",
    "        self.price = price\n",
    "        self.quantity = quantity\n",
    "        \n",
    "    def calculate_total_price(self):\n",
    "        return self.price * self.quantity\n",
    "\n",
    "item1 = Item(\"Phone\",100)\n",
    "\n",
    "item2 = Item(\"Laptop\",1000,3)\n",
    "\n",
    "# Adding TrackPad attribute to item2 object\n",
    "\n",
    "item2.trackpad = \"present\"\n",
    "\n",
    "\n",
    "print(item2.trackpad)\n",
    "\n"
   ]
  }
 ],
 "metadata": {
  "kernelspec": {
   "display_name": "Python 3",
   "language": "python",
   "name": "python3"
  },
  "language_info": {
   "codemirror_mode": {
    "name": "ipython",
    "version": 3
   },
   "file_extension": ".py",
   "mimetype": "text/x-python",
   "name": "python",
   "nbconvert_exporter": "python",
   "pygments_lexer": "ipython3",
   "version": "3.9.6"
  }
 },
 "nbformat": 4,
 "nbformat_minor": 2
}
